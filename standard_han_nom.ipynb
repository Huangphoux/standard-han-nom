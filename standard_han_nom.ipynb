{
  "cells": [
    {
      "cell_type": "markdown",
      "metadata": {
        "id": "view-in-github",
        "colab_type": "text"
      },
      "source": [
        "<a href=\"https://colab.research.google.com/github/Huangphoux/standard-han-nom/blob/main/standard_han_nom.ipynb\" target=\"_parent\"><img src=\"https://colab.research.google.com/assets/colab-badge.svg\" alt=\"Open In Colab\"/></a>"
      ]
    },
    {
      "cell_type": "code",
      "source": [
        "!git clone -q https://github.com/Huangphoux/standard-han-nom\n",
        "%cd /content/standard-han-nom/\n",
        "!pip install -q -r requirements.txt\n",
        "!pip install -q genanki\n",
        "%mkdir results\n",
        "\n",
        "import pandas as pd\n",
        "import numpy as np\n",
        "import genanki\n",
        "\n",
        "from google.colab import files\n",
        "\n",
        "standard_table_lv1 = pd.DataFrame(pd.read_excel(\"standard-han-nom-lv1.xlsx\"))\n",
        "standard_table_lv2 = pd.DataFrame(pd.read_excel(\"standard-han-nom-lv2.xlsx\"))\n",
        "reform = pd.DataFrame(pd.read_csv('reformed-chinese.tsv', sep='\\t'))"
      ],
      "metadata": {
        "id": "tnqeMdtKY0FA"
      },
      "execution_count": null,
      "outputs": []
    },
    {
      "cell_type": "markdown",
      "metadata": {
        "id": "abhXeNMZxCOU"
      },
      "source": [
        "## 2. Data preprocessing"
      ]
    },
    {
      "cell_type": "markdown",
      "metadata": {
        "id": "PC-T5vR-xCOU"
      },
      "source": [
        "Although the source claimed there were 3975 characters in the tables, there appear to be only 3974. I plan to deal with this problem later.\n",
        "Update: The reason is in the row 2192. The converter didn't read the character 洛 in this row (maybe because it's not fully display in the pdf file), so there was a missing character.\n",
        "\n",
        "Despite doing a good job, the converter did not make a perfect table. There is a issue that is the column \"Unnamed: 3\", it should have been merged to the \"Examples\" column."
      ]
    },
    {
      "cell_type": "code",
      "execution_count": null,
      "metadata": {
        "id": "MHBFfq3JxCOV"
      },
      "outputs": [],
      "source": [
        "standard_table_lv1['Examples'] = standard_table_lv1['Examples'].str.cat(standard_table_lv1['Unnamed: 3'], sep = ' ', na_rep='')\n",
        "\n",
        "standard_table_lv1.drop('Unnamed: 3', axis=1, inplace=True)\n",
        "\n",
        "standard_table_lv1.loc[2192, 'Character'] = '洛'"
      ]
    },
    {
      "cell_type": "markdown",
      "metadata": {
        "id": "6lUDmzXYxCOW"
      },
      "source": [
        "From now on, I will deal with the missing values from the columns: Reading, Character and unicode(create from Note column later)."
      ]
    },
    {
      "cell_type": "code",
      "execution_count": null,
      "metadata": {
        "id": "JCH-KWtvxCOW"
      },
      "outputs": [],
      "source": [
        "# from above info, it seems like there is a missing value of Reading column\n",
        "# standard_table_lv1[standard_table_lv1['Reading'].isnull()]"
      ]
    },
    {
      "cell_type": "code",
      "execution_count": null,
      "metadata": {
        "id": "Pzw-S_bLxCOX"
      },
      "outputs": [],
      "source": [
        "# The reading is \"Na\" but was misunderstood to be NaN value. So I replace it.\n",
        "standard_table_lv1.loc[2812, 'Reading'] = \"NA\"\n",
        "standard_table_lv2.loc[1904, 'Reading'] = \"nan\""
      ]
    },
    {
      "cell_type": "code",
      "source": [
        "standard_table_lv1 = pd.concat([standard_table_lv1, standard_table_lv2], ignore_index=True)"
      ],
      "metadata": {
        "id": "bL0XaWxjpkIZ"
      },
      "execution_count": null,
      "outputs": []
    },
    {
      "cell_type": "code",
      "execution_count": null,
      "metadata": {
        "id": "2HLQeuXBxCOX"
      },
      "outputs": [],
      "source": [
        "# adding a unicode column which is extracted from 'Note' column\n",
        "# the unicode columnn is the column of list (except there are some NaN values)\n",
        "standard_table_lv1['unicode'] = standard_table_lv1['Note'].str.findall(r'(U\\+[0-9A-Fa-f]+)')\n",
        "standard_table_lv1['unicode'] = standard_table_lv1['unicode'].apply(lambda x: np.nan if x == [] else x)\n",
        "\n",
        "standard_table_lv1['Note'] = standard_table_lv1['Note'].str.replace(r'(U\\+[0-9A-Fa-f]+)', \"\", regex=True)\n",
        "standard_table_lv1['Note'] = standard_table_lv1['Note'].str.replace('()', \"\")\n",
        "\n",
        "#standard_table_lv1.drop('Note', axis=1, inplace=True)"
      ]
    },
    {
      "cell_type": "code",
      "source": [
        "# standard_table_lv1"
      ],
      "metadata": {
        "id": "VsESEblZCb9J"
      },
      "execution_count": null,
      "outputs": []
    },
    {
      "cell_type": "markdown",
      "metadata": {
        "id": "rcFAeGNsxCOY"
      },
      "source": [
        "Now I will replace NaN values in 'Character' and 'unicode' columns. Since every character is assigned with at least one code, and there are 3,975 characters and 3,975 lists, so that each character is associated with its own unique list.\n",
        "\n",
        "Thus, we have this table (keep in mind one character might have n reading ways):\n",
        "\n",
        "| Character                     | Reading   | unicode                           |\n",
        "|-------------------------------|-----------|-----------------------------------|\n",
        "| character can be in this cell | reading_1 | the list (of code) can be in this |\n",
        "| or this cell                  | reading_2 | or this                           |\n",
        "| or this one                   | reading_n | or this                           |\n",
        "\n",
        "I make an assumption that the list of code should be in the same row with reading_1.\n",
        "The character is expected to be in that row too, but that's not always true. The next Code Cell proves that the character can only be in the row of reading_1 or the row of reading_2.\n"
      ]
    },
    {
      "cell_type": "code",
      "execution_count": null,
      "metadata": {
        "id": "Jc3JbCj2xCOY"
      },
      "outputs": [],
      "source": [
        "temp1 = standard_table_lv1['Character'].isna() & ~standard_table_lv1['unicode'].isna()\n",
        "special_index_list = []\n",
        "\n",
        "for index, value in temp1.items():\n",
        "    if value == True:\n",
        "        special_index_list.append(index)\n",
        "        special_index_list.append(index+1)\n",
        "\n",
        "# standard_table_lv1.iloc[special_index_list]"
      ]
    },
    {
      "cell_type": "code",
      "execution_count": null,
      "metadata": {
        "id": "Llg0HFX8xCOY"
      },
      "outputs": [],
      "source": [
        "# Now I bring all the character in its reading_2 row back to reading_1 row.\n",
        "for index, value in temp1.items():\n",
        "    if value == True:\n",
        "        standard_table_lv1.loc[index, 'Character'] = standard_table_lv1.loc[index + 1, 'Character']\n",
        "        standard_table_lv1.loc[index + 1, 'Character'] = np.nan"
      ]
    },
    {
      "cell_type": "code",
      "execution_count": null,
      "metadata": {
        "id": "KeDb3fM9xCOY"
      },
      "outputs": [],
      "source": [
        "# fill all NaN value in Character column and unicode column\n",
        "standard_table_lv1['Character'] = standard_table_lv1['Character'].fillna(method='ffill')\n",
        "standard_table_lv1['unicode'] = standard_table_lv1['unicode'].fillna(method='ffill')\n",
        "\n",
        "standard_table_lv1['Note'] = standard_table_lv1['Note'].fillna('')"
      ]
    },
    {
      "cell_type": "markdown",
      "metadata": {
        "id": "DBcAFqFCxCOY"
      },
      "source": [
        "Now we will assign each character to a grade from 1 to 5."
      ]
    },
    {
      "cell_type": "code",
      "source": [
        "# first, I read all the characters from pdf to .txt file using below 3 lines of code to read pdf file\n",
        "# then, I copied the result to .txt files manually\n",
        "\n",
        "# from PyPDF2 import PdfReader\n",
        "# reader = PdfReader(\"characters-by-grade.pdf\")\n",
        "# print(reader.pages[7].extract_text())"
      ],
      "metadata": {
        "id": "W_w5BVhSgZiF"
      },
      "execution_count": null,
      "outputs": []
    },
    {
      "cell_type": "code",
      "execution_count": null,
      "metadata": {
        "id": "QuYoAogjxCOZ"
      },
      "outputs": [],
      "source": [
        "characters_by_grade = {}\n",
        "characters_lv2 = {}\n",
        "\n",
        "for grade in range(1, 7): # there are grade 1,2,3,4,5,6\n",
        "    with open('new-characters-by-grade/grade' + str(grade) + '.txt', 'r', encoding='utf8') as file:\n",
        "        characters_by_grade[grade] = file.read().split()\n",
        "\n",
        "with open('new-characters-by-grade/level2.txt', 'r', encoding='utf8') as file:\n",
        "        characters_lv2 = file.read().split()\n",
        "\n",
        "standard_table_lv1['grade'] = -1\n",
        "\n",
        "for grade in range(1, 7):\n",
        "    for character in characters_by_grade[grade]:\n",
        "        row = standard_table_lv1.loc[standard_table_lv1['Character'].str.startswith(character, na=False)]\n",
        "        standard_table_lv1.loc[row.index, 'grade'] = grade\n",
        "\n",
        "# 7: nằm trong cấp 2\n",
        "# 8: không nằm trong đâu cả\n",
        "\n",
        "for character in characters_lv2:\n",
        "    row = standard_table_lv1.loc[standard_table_lv1['Character'].str.startswith(character, na=False)]\n",
        "    standard_table_lv1.loc[row.index, 'grade'] = 7\n",
        "\n",
        "standard_table_lv1['grade'] = standard_table_lv1['grade'].apply(lambda x: 8 if x == -1 else x)\n",
        "# standard_table_lv1 = standard_table_lv1[standard_table_lv1['grade'].notna()]\n",
        "\n",
        "# Cleaning all \\n in Reading and Example\n",
        "standard_table_lv1['Reading'] = standard_table_lv1['Reading'].str.replace('\\n', '', regex=True)\n",
        "standard_table_lv1['Examples'] = standard_table_lv1['Examples'].str.replace('\\n', '', regex=True)\n",
        "standard_table_lv1['Examples'] = standard_table_lv1['Examples'].str.replace(' ?· ?', ' ', regex=True)\n",
        "\n",
        "standard_table_lv1['Note'] = standard_table_lv1['Note'].astype(str)\n",
        "\n",
        "\n",
        "# Export\n",
        "standard_table_lv1.to_excel('after-processing-list.xlsx', index=False)"
      ]
    },
    {
      "cell_type": "code",
      "source": [
        "standard_table_lv1"
      ],
      "metadata": {
        "id": "-WgN9pkNjdy3"
      },
      "execution_count": null,
      "outputs": []
    },
    {
      "cell_type": "markdown",
      "metadata": {
        "id": "mTsgHgi0xCOZ"
      },
      "source": [
        "Now, we have a complete table need for creating anki decks.\n",
        "\n",
        "## 3. Create anki decks"
      ]
    },
    {
      "cell_type": "code",
      "source": [
        "# Create an Anki model (card layout)\n",
        "han_nom_to_quoc_ngu_model = genanki.Model(\n",
        "    1607392319,\n",
        "    'Hán Nôm',\n",
        "    fields=[\n",
        "        {'name': 'Character'},\n",
        "        {'name': 'Readings'},\n",
        "        {'name': 'Audio'},\n",
        "        {'name': 'Picture'},\n",
        "        {'name': 'Examples'},\n",
        "        {'name': 'Notes'},\n",
        "        {'name': 'Grade'},\n",
        "    ],\n",
        "    templates=[\n",
        "        {\n",
        "            'name': 'Card 1',\n",
        "            'qfmt': \"\"\"<div style=\"font-size: 4em; font-family: minh\">\n",
        "{{Character}}\n",
        "</div>\"\"\",\n",
        "            'afmt': \"\"\"{{FrontSide}}\n",
        "\n",
        "<hr id=answer>\n",
        "\n",
        "<div style=\"font-size: 2em; font-family: minh\"\">{{Readings}}</div>\n",
        "<div>{{Audio}}</div>\n",
        "<div>{{Picture}}</div>\n",
        "<div class=\"examples\">{{Examples}}</div>\n",
        "\"\"\",\n",
        "        },\n",
        "    ],\n",
        "    css = \"\"\".card {\n",
        "    font-family: gothic;\n",
        "    font-size: 2em;\n",
        "    text-align: center;\n",
        "    color: black;\n",
        "    background-color: #fdf6e3;\n",
        "}\n",
        "\n",
        "@font-face {\n",
        "  font-family: gothic;\n",
        "  src: url(\"_gothic.ttf\");\n",
        "}\n",
        "\n",
        "@font-face {\n",
        "  font-family: minh;\n",
        "  src: url(\"_minh.ttf\");\n",
        "}\"\"\",\n",
        ")"
      ],
      "metadata": {
        "id": "oTme0b4Hlwae"
      },
      "execution_count": null,
      "outputs": []
    },
    {
      "cell_type": "code",
      "execution_count": null,
      "metadata": {
        "id": "0elp-12UxCOZ"
      },
      "outputs": [],
      "source": [
        "def create_deck(new_df, deck_name, model, grade):\n",
        "    match grade:\n",
        "        case 7:\n",
        "            subdeck_name = f'Cấp 2'\n",
        "        case 8:\n",
        "            subdeck_name = f'Ngoài bảng'\n",
        "        case _:\n",
        "            subdeck_name = f'Lớp {grade}'\n",
        "\n",
        "    subdeck = genanki.Deck(2059400110+grade+ord(deck_name[0]), subdeck_name)  # Subdeck ID\n",
        "\n",
        "    package = genanki.Package(subdeck)\n",
        "    package.media_files = ['_gothic.ttf', '_minh.ttf']\n",
        "\n",
        "    for _, row in new_df.iterrows():\n",
        "        note = genanki.Note(\n",
        "            model=model,\n",
        "            fields=[str(row['Character']) if pd.notna(row['Character']) else '',\n",
        "                    str(row['Readings']) if pd.notna(row['Readings']) else '',\n",
        "                    '',\n",
        "                    '',\n",
        "                    str(row['Examples']) if pd.notna(row['Examples']) else '',\n",
        "                    str(row['Note']) if pd.notna(row['Note']) else '',\n",
        "                    str(row['grade']) if pd.notna(row['grade']) else '',]\n",
        "        )\n",
        "        subdeck.add_note(note)\n",
        "\n",
        "    subdeck.write_to_file(f'results/{subdeck_name}.apkg')\n",
        "\n",
        "def create_HanNom_to_Quocngu_deck(df, deck_name, grade, model = han_nom_to_quoc_ngu_model):\n",
        "    df_by_grade = df[df['grade'] == grade]\n",
        "\n",
        "    new_df = pd.DataFrame(columns=['Character', 'Readings', 'Examples', 'Note', 'grade'])\n",
        "\n",
        "    for _, row in df_by_grade.iterrows():\n",
        "        character = str(row['Character']) if pd.notna(row['Character']) else ''\n",
        "        reading = str(row['Reading']) if pd.notna(row['Reading']) else ''\n",
        "        examples = str(row['Examples']) if pd.notna(row['Examples']) else ''\n",
        "        note = str(row['Note']) if pd.notna(row['Note']) else ''\n",
        "        grade_val = str(row['grade']) if pd.notna(row['grade']) else ''\n",
        "\n",
        "        if character in new_df['Character'].values:\n",
        "            new_df.loc[new_df['Character'] == character, 'Readings'] += ', ' + reading\n",
        "            new_df.loc[new_df['Character'] == character, 'Examples'] += '<br><br>' + examples\n",
        "        else:\n",
        "            new_df.loc[len(new_df)] = [character, reading, examples.rstrip(), note, grade_val]\n",
        "\n",
        "    temp = pd.DataFrame(columns=['Character', 'Readings', 'Examples', 'Note', 'grade'])\n",
        "\n",
        "    # Handle cases for grades 1-6, 7 (level2), and 8 (outside the table)\n",
        "    if grade in range(1, 7):\n",
        "        for character in characters_by_grade[grade]:\n",
        "             row = new_df[new_df['Character'] == character]\n",
        "             if not row.empty:\n",
        "                temp.loc[len(temp)] = row.iloc[0].values\n",
        "    elif grade == 7:\n",
        "         for character in characters_lv2:\n",
        "             row = new_df[new_df['Character'] == character]\n",
        "             if not row.empty:\n",
        "                temp.loc[len(temp)] = row.iloc[0].values\n",
        "    elif grade == 8:\n",
        "        temp = new_df # For grade 8, keep all characters in new_df\n",
        "\n",
        "    new_df = temp\n",
        "\n",
        "    create_deck(new_df, deck_name, model, grade)\n",
        "\n",
        "# Iterate through grades 1 to 8\n",
        "for i in range(1, 9):\n",
        "    create_HanNom_to_Quocngu_deck(standard_table_lv1, 'Hán Nôm', i)"
      ]
    },
    {
      "cell_type": "code",
      "source": [
        "!zip -r /content/results.zip results\n",
        "\n",
        "files.download(\"/content/results.zip\")"
      ],
      "metadata": {
        "id": "Q4DmQPYe31k_"
      },
      "execution_count": null,
      "outputs": []
    }
  ],
  "metadata": {
    "kernelspec": {
      "display_name": "myenv",
      "language": "python",
      "name": "python3"
    },
    "language_info": {
      "codemirror_mode": {
        "name": "ipython",
        "version": 3
      },
      "file_extension": ".py",
      "mimetype": "text/x-python",
      "name": "python",
      "nbconvert_exporter": "python",
      "pygments_lexer": "ipython3",
      "version": "3.9.7"
    },
    "colab": {
      "provenance": [],
      "include_colab_link": true
    }
  },
  "nbformat": 4,
  "nbformat_minor": 0
}