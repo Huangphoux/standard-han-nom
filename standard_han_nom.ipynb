{
  "cells": [
    {
      "cell_type": "markdown",
      "metadata": {
        "id": "view-in-github",
        "colab_type": "text"
      },
      "source": [
        "<a href=\"https://colab.research.google.com/github/Huangphoux/standard-han-nom/blob/main/standard_han_nom.ipynb\" target=\"_parent\"><img src=\"https://colab.research.google.com/assets/colab-badge.svg\" alt=\"Open In Colab\"/></a>"
      ]
    },
    {
      "cell_type": "code",
      "execution_count": 1,
      "metadata": {
        "colab": {
          "base_uri": "https://localhost:8080/"
        },
        "id": "tnqeMdtKY0FA",
        "outputId": "be042c82-68e7-4cb8-a099-72df512e300e"
      },
      "outputs": [
        {
          "output_type": "stream",
          "name": "stdout",
          "text": [
            "/content/standard-han-nom\n",
            "\u001b[2K     \u001b[90m━━━━━━━━━━━━━━━━━━━━━━━━━━━━━━━━━━━━━━━━\u001b[0m \u001b[32m89.9/89.9 kB\u001b[0m \u001b[31m3.1 MB/s\u001b[0m eta \u001b[36m0:00:00\u001b[0m\n",
            "\u001b[?25h\u001b[31mERROR: Could not find a version that satisfies the requirement pywin32==308 (from versions: none)\u001b[0m\u001b[31m\n",
            "\u001b[0m\u001b[31mERROR: No matching distribution found for pywin32==308\u001b[0m\u001b[31m\n",
            "\u001b[0m"
          ]
        }
      ],
      "source": [
        "!git clone -q https://github.com/Huangphoux/standard-han-nom\n",
        "%cd /content/standard-han-nom/\n",
        "!pip install -q -r requirements.txt\n",
        "!pip install -q genanki\n",
        "\n",
        "import pandas as pd\n",
        "import numpy as np\n",
        "import genanki\n",
        "\n",
        "from google.colab import files"
      ]
    },
    {
      "cell_type": "code",
      "source": [
        "# Press here to remake to DataFrame\n",
        "standard_table_lv1 = pd.DataFrame(pd.read_excel(\"character-lists/standard-han-nom-lv1.xlsx\"))\n",
        "standard_table_lv2 = pd.DataFrame(pd.read_excel(\"character-lists/standard-han-nom-lv2.xlsx\"))\n",
        "\n",
        "reform = pd.DataFrame(pd.read_csv('character-lists/reformed-chinese.tsv', sep='\\t'))\n",
        "website = pd.DataFrame(pd.read_html('character-lists/website.html')[0])"
      ],
      "metadata": {
        "id": "qhxKgKxybXY4"
      },
      "execution_count": 46,
      "outputs": []
    },
    {
      "cell_type": "code",
      "source": [
        "characters_by_grade = {}\n",
        "new_characters_lv2 = {}\n",
        "new_characters_by_grade = {}\n",
        "\n",
        "characters_by_grade_flat = []\n",
        "new_characters_by_grade_flat = []\n",
        "\n",
        "for grade in range(1, 7): # there are grade 1,2,3,4,5,6\n",
        "    with open('characters-by-grade/grade' + str(grade) + '.txt', 'r', encoding='utf8') as file:\n",
        "        characters_by_grade[grade] = file.read().split()\n",
        "\n",
        "    with open('new-characters-by-grade/grade' + str(grade) + '.txt', 'r', encoding='utf8') as file:\n",
        "        new_characters_by_grade[grade] = file.read().split()\n",
        "\n",
        "    for character in characters_by_grade[grade]:\n",
        "        characters_by_grade_flat += character\n",
        "\n",
        "    for character in new_characters_by_grade[grade]:\n",
        "        new_characters_by_grade_flat += character\n",
        "\n",
        "with open('new-characters-by-grade/level2.txt', 'r', encoding='utf8') as file:\n",
        "        new_characters_lv2 = file.read().split()"
      ],
      "metadata": {
        "id": "QX1Sg1vIjseg"
      },
      "execution_count": 47,
      "outputs": []
    },
    {
      "cell_type": "code",
      "source": [
        "odd = [x for x in characters_by_grade_flat if x not in old_characters_by_grade_flat]\n",
        "print(odd)\n",
        "print(len(odd))\n",
        "\n",
        "print(len(old_characters_by_grade_flat))\n",
        "print(len(characters_by_grade_flat))"
      ],
      "metadata": {
        "id": "-0Khnphjgox4"
      },
      "execution_count": null,
      "outputs": []
    },
    {
      "cell_type": "markdown",
      "metadata": {
        "id": "abhXeNMZxCOU"
      },
      "source": [
        "## 2. Data preprocessing"
      ]
    },
    {
      "cell_type": "markdown",
      "metadata": {
        "id": "PC-T5vR-xCOU"
      },
      "source": [
        "Although the source claimed there were 3975 characters in the tables, there appear to be only 3974. I plan to deal with this problem later.\n",
        "Update: The reason is in the row 2192. The converter didn't read the character 洛 in this row (maybe because it's not fully display in the pdf file), so there was a missing character.\n",
        "\n",
        "Despite doing a good job, the converter did not make a perfect table. There is a issue that is the column \"Unnamed: 3\", it should have been merged to the \"Examples\" column."
      ]
    },
    {
      "cell_type": "code",
      "execution_count": 48,
      "metadata": {
        "id": "MHBFfq3JxCOV"
      },
      "outputs": [],
      "source": [
        "standard_table_lv1['Examples'] = standard_table_lv1['Examples'].str.cat(standard_table_lv1['Unnamed: 3'], sep = ' ', na_rep='')\n",
        "\n",
        "standard_table_lv1.drop('Unnamed: 3', axis=1, inplace=True)\n",
        "\n",
        "standard_table_lv1.loc[2192, 'Character'] = '洛'"
      ]
    },
    {
      "cell_type": "markdown",
      "metadata": {
        "id": "6lUDmzXYxCOW"
      },
      "source": [
        "From now on, I will deal with the missing values from the columns: Reading, Character and unicode(create from Note column later)."
      ]
    },
    {
      "cell_type": "code",
      "execution_count": null,
      "metadata": {
        "id": "JCH-KWtvxCOW"
      },
      "outputs": [],
      "source": [
        "# from above info, it seems like there is a missing value of Reading column\n",
        "# standard_table_lv1[standard_table_lv1['Reading'].isnull()]"
      ]
    },
    {
      "cell_type": "code",
      "execution_count": 49,
      "metadata": {
        "id": "Pzw-S_bLxCOX"
      },
      "outputs": [],
      "source": [
        "# The reading is \"Na\" but was misunderstood to be NaN value. So I replace it.\n",
        "standard_table_lv1.loc[2812, 'Reading'] = \"NA\"\n",
        "standard_table_lv2.loc[1904, 'Reading'] = \"nan\""
      ]
    },
    {
      "cell_type": "code",
      "execution_count": 50,
      "metadata": {
        "id": "bL0XaWxjpkIZ"
      },
      "outputs": [],
      "source": [
        "standard_table_lv1 = pd.concat([standard_table_lv1, standard_table_lv2], ignore_index=True)"
      ]
    },
    {
      "cell_type": "code",
      "execution_count": 51,
      "metadata": {
        "id": "2HLQeuXBxCOX"
      },
      "outputs": [],
      "source": [
        "# adding a unicode column which is extracted from 'Note' column\n",
        "# the unicode columnn is the column of list (except there are some NaN values)\n",
        "standard_table_lv1['unicode'] = standard_table_lv1['Note'].str.findall(r'(U\\+[0-9A-Fa-f]+)')\n",
        "standard_table_lv1['unicode'] = standard_table_lv1['unicode'].apply(lambda x: np.nan if x == [] else x)\n",
        "\n",
        "standard_table_lv1['Note'] = standard_table_lv1['Note'].str.replace(r'(U\\+[0-9A-Fa-f]+)', \"\", regex=True)\n",
        "standard_table_lv1['Note'] = standard_table_lv1['Note'].str.replace('()', \"\")\n",
        "\n",
        "#standard_table_lv1.drop('Note', axis=1, inplace=True)"
      ]
    },
    {
      "cell_type": "code",
      "source": [
        "standard_table_lv1['Character'] = standard_table_lv1['Character'].str.replace(r'(（.）)', \"\", regex=True)"
      ],
      "metadata": {
        "id": "hqGvju4kbHMd"
      },
      "execution_count": 52,
      "outputs": []
    },
    {
      "cell_type": "code",
      "execution_count": null,
      "metadata": {
        "id": "VsESEblZCb9J"
      },
      "outputs": [],
      "source": [
        "# standard_table_lv1"
      ]
    },
    {
      "cell_type": "markdown",
      "metadata": {
        "id": "rcFAeGNsxCOY"
      },
      "source": [
        "Now I will replace NaN values in 'Character' and 'unicode' columns. Since every character is assigned with at least one code, and there are 3,975 characters and 3,975 lists, so that each character is associated with its own unique list.\n",
        "\n",
        "Thus, we have this table (keep in mind one character might have n reading ways):\n",
        "\n",
        "| Character                     | Reading   | unicode                           |\n",
        "|-------------------------------|-----------|-----------------------------------|\n",
        "| character can be in this cell | reading_1 | the list (of code) can be in this |\n",
        "| or this cell                  | reading_2 | or this                           |\n",
        "| or this one                   | reading_n | or this                           |\n",
        "\n",
        "I make an assumption that the list of code should be in the same row with reading_1.\n",
        "The character is expected to be in that row too, but that's not always true. The next Code Cell proves that the character can only be in the row of reading_1 or the row of reading_2.\n"
      ]
    },
    {
      "cell_type": "code",
      "execution_count": 53,
      "metadata": {
        "id": "Jc3JbCj2xCOY"
      },
      "outputs": [],
      "source": [
        "temp1 = standard_table_lv1['Character'].isna() & ~standard_table_lv1['unicode'].isna()\n",
        "special_index_list = []\n",
        "\n",
        "for index, value in temp1.items():\n",
        "    if value == True:\n",
        "        special_index_list.append(index)\n",
        "        special_index_list.append(index+1)\n",
        "\n",
        "# standard_table_lv1.iloc[special_index_list]"
      ]
    },
    {
      "cell_type": "code",
      "execution_count": 54,
      "metadata": {
        "id": "Llg0HFX8xCOY"
      },
      "outputs": [],
      "source": [
        "# Now I bring all the character in its reading_2 row back to reading_1 row.\n",
        "for index, value in temp1.items():\n",
        "    if value == True:\n",
        "        standard_table_lv1.loc[index, 'Character'] = standard_table_lv1.loc[index + 1, 'Character']\n",
        "        standard_table_lv1.loc[index + 1, 'Character'] = np.nan"
      ]
    },
    {
      "cell_type": "code",
      "execution_count": 55,
      "metadata": {
        "colab": {
          "base_uri": "https://localhost:8080/"
        },
        "id": "KeDb3fM9xCOY",
        "outputId": "dd068453-a6d7-421d-c8b1-0786e6eb362e"
      },
      "outputs": [
        {
          "output_type": "stream",
          "name": "stderr",
          "text": [
            "<ipython-input-55-1b7160f39664>:2: FutureWarning: Series.fillna with 'method' is deprecated and will raise in a future version. Use obj.ffill() or obj.bfill() instead.\n",
            "  standard_table_lv1['Character'] = standard_table_lv1['Character'].fillna(method='ffill')\n",
            "<ipython-input-55-1b7160f39664>:3: FutureWarning: Series.fillna with 'method' is deprecated and will raise in a future version. Use obj.ffill() or obj.bfill() instead.\n",
            "  standard_table_lv1['unicode'] = standard_table_lv1['unicode'].fillna(method='ffill')\n"
          ]
        }
      ],
      "source": [
        "# fill all NaN value in Character column and unicode column\n",
        "standard_table_lv1['Character'] = standard_table_lv1['Character'].fillna(method='ffill')\n",
        "standard_table_lv1['unicode'] = standard_table_lv1['unicode'].fillna(method='ffill')\n",
        "\n",
        "standard_table_lv1['Note'] = standard_table_lv1['Note'].fillna('')"
      ]
    },
    {
      "cell_type": "markdown",
      "metadata": {
        "id": "DBcAFqFCxCOY"
      },
      "source": [
        "Now we will assign each character to a grade from 1 to 5."
      ]
    },
    {
      "cell_type": "code",
      "execution_count": null,
      "metadata": {
        "id": "W_w5BVhSgZiF"
      },
      "outputs": [],
      "source": [
        "# first, I read all the characters from pdf to .txt file using below 3 lines of code to read pdf file\n",
        "# then, I copied the result to .txt files manually\n",
        "\n",
        "# from PyPDF2 import PdfReader\n",
        "# reader = PdfReader(\"characters-by-grade.pdf\")\n",
        "# print(reader.pages[7].extract_text())"
      ]
    },
    {
      "cell_type": "code",
      "execution_count": 56,
      "metadata": {
        "id": "QuYoAogjxCOZ"
      },
      "outputs": [],
      "source": [
        "standard_table_lv1['grade'] = -1\n",
        "\n",
        "for grade in range(1, 7):\n",
        "    for character in characters_by_grade[grade]:\n",
        "        row = standard_table_lv1.loc[standard_table_lv1['Character'].str.startswith(character, na=False)]\n",
        "        standard_table_lv1.loc[row.index, 'grade'] = grade\n",
        "\n",
        "# 7: nằm trong cấp 2\n",
        "# 8: không nằm trong đâu cả\n",
        "\n",
        "# for character in characters_lv2:\n",
        "#     row = standard_table_lv1.loc[standard_table_lv1['Character'].str.startswith(character, na=False)]\n",
        "#     standard_table_lv1.loc[row.index, 'grade'] = 7\n",
        "\n",
        "standard_table_lv1['grade'] = standard_table_lv1['grade'].apply(lambda x: 7 if x == -1 else x)\n",
        "# standard_table_lv1 = standard_table_lv1[standard_table_lv1['grade'].notna()]\n",
        "\n",
        "# Cleaning all \\n in Reading and Example\n",
        "standard_table_lv1['Reading'] = standard_table_lv1['Reading'].str.replace('\\n', '', regex=True)\n",
        "standard_table_lv1['Examples'] = standard_table_lv1['Examples'].str.replace('\\n', '', regex=True)\n",
        "standard_table_lv1['Examples'] = standard_table_lv1['Examples'].str.replace(' ?· ?', '・', regex=True)\n",
        "\n",
        "standard_table_lv1['Note'] = standard_table_lv1['Note'].astype(str)\n",
        "\n",
        "\n",
        "# Export\n",
        "# standard_table_lv1.to_excel('/content/after-processing-list.xlsx', index=False)"
      ]
    },
    {
      "cell_type": "code",
      "source": [
        "standard_table_lv1"
      ],
      "metadata": {
        "id": "Oa_PUyVTorqh",
        "outputId": "bf3a8f47-2efb-4734-ccd1-c65297d4298c",
        "colab": {
          "base_uri": "https://localhost:8080/",
          "height": 974
        }
      },
      "execution_count": 57,
      "outputs": [
        {
          "output_type": "execute_result",
          "data": {
            "text/plain": [
              "     Character Reading                                           Examples  \\\n",
              "0            阿       A  阿從  a tòng  阿諛  a dua  阿片 a phiến  阿羅漢  A La H...   \n",
              "1            妸       ả                                 淹妸 êm ả  妸陶  ả đào   \n",
              "2            亞       Á                洲亞  Châu Á  亞金  á kim  亞聖  á thánh    \n",
              "3            啊       à                                   勢啊？  Thế à? [嘆]    \n",
              "4            啊       ã                                        嗢啊 ồn ã [𠸨]   \n",
              "...        ...     ...                                                ...   \n",
              "8895         昌   XƯƠNG                                    昌盛  xương thịnh   \n",
              "8896         唱   XƯỚNG                                      喝唱  hát xướng   \n",
              "8897         唱    xang                吋唱  xốn xang [𠸨]  𫕸唱  xênh xang [𠸨]   \n",
              "8898         䉅     xụp                            㡴䉅  lụp xụp  嚏䉅  xì xụp   \n",
              "8899         㻠     xụt                                         嚏㻠  xì xụt   \n",
              "\n",
              "      Note   unicode  grade  \n",
              "0     [翻]   [U+963F]      2  \n",
              "1           [U+59B8]      6  \n",
              "2           [U+4E9E]      3  \n",
              "3           [U+554A]      3  \n",
              "4           [U+554A]      3  \n",
              "...    ...       ...    ...  \n",
              "8895        [U+660C]      7  \n",
              "8896        [U+5531]      7  \n",
              "8897        [U+5531]      7  \n",
              "8898        [U+4245]      7  \n",
              "8899  [翻]   [U+3EE0]      7  \n",
              "\n",
              "[8900 rows x 6 columns]"
            ],
            "text/html": [
              "\n",
              "  <div id=\"df-104a4195-d2a1-4fdd-b846-bb726d0c6b8a\" class=\"colab-df-container\">\n",
              "    <div>\n",
              "<style scoped>\n",
              "    .dataframe tbody tr th:only-of-type {\n",
              "        vertical-align: middle;\n",
              "    }\n",
              "\n",
              "    .dataframe tbody tr th {\n",
              "        vertical-align: top;\n",
              "    }\n",
              "\n",
              "    .dataframe thead th {\n",
              "        text-align: right;\n",
              "    }\n",
              "</style>\n",
              "<table border=\"1\" class=\"dataframe\">\n",
              "  <thead>\n",
              "    <tr style=\"text-align: right;\">\n",
              "      <th></th>\n",
              "      <th>Character</th>\n",
              "      <th>Reading</th>\n",
              "      <th>Examples</th>\n",
              "      <th>Note</th>\n",
              "      <th>unicode</th>\n",
              "      <th>grade</th>\n",
              "    </tr>\n",
              "  </thead>\n",
              "  <tbody>\n",
              "    <tr>\n",
              "      <th>0</th>\n",
              "      <td>阿</td>\n",
              "      <td>A</td>\n",
              "      <td>阿從  a tòng  阿諛  a dua  阿片 a phiến  阿羅漢  A La H...</td>\n",
              "      <td>[翻]</td>\n",
              "      <td>[U+963F]</td>\n",
              "      <td>2</td>\n",
              "    </tr>\n",
              "    <tr>\n",
              "      <th>1</th>\n",
              "      <td>妸</td>\n",
              "      <td>ả</td>\n",
              "      <td>淹妸 êm ả  妸陶  ả đào</td>\n",
              "      <td></td>\n",
              "      <td>[U+59B8]</td>\n",
              "      <td>6</td>\n",
              "    </tr>\n",
              "    <tr>\n",
              "      <th>2</th>\n",
              "      <td>亞</td>\n",
              "      <td>Á</td>\n",
              "      <td>洲亞  Châu Á  亞金  á kim  亞聖  á thánh</td>\n",
              "      <td></td>\n",
              "      <td>[U+4E9E]</td>\n",
              "      <td>3</td>\n",
              "    </tr>\n",
              "    <tr>\n",
              "      <th>3</th>\n",
              "      <td>啊</td>\n",
              "      <td>à</td>\n",
              "      <td>勢啊？  Thế à? [嘆]</td>\n",
              "      <td></td>\n",
              "      <td>[U+554A]</td>\n",
              "      <td>3</td>\n",
              "    </tr>\n",
              "    <tr>\n",
              "      <th>4</th>\n",
              "      <td>啊</td>\n",
              "      <td>ã</td>\n",
              "      <td>嗢啊 ồn ã [𠸨]</td>\n",
              "      <td></td>\n",
              "      <td>[U+554A]</td>\n",
              "      <td>3</td>\n",
              "    </tr>\n",
              "    <tr>\n",
              "      <th>...</th>\n",
              "      <td>...</td>\n",
              "      <td>...</td>\n",
              "      <td>...</td>\n",
              "      <td>...</td>\n",
              "      <td>...</td>\n",
              "      <td>...</td>\n",
              "    </tr>\n",
              "    <tr>\n",
              "      <th>8895</th>\n",
              "      <td>昌</td>\n",
              "      <td>XƯƠNG</td>\n",
              "      <td>昌盛  xương thịnh</td>\n",
              "      <td></td>\n",
              "      <td>[U+660C]</td>\n",
              "      <td>7</td>\n",
              "    </tr>\n",
              "    <tr>\n",
              "      <th>8896</th>\n",
              "      <td>唱</td>\n",
              "      <td>XƯỚNG</td>\n",
              "      <td>喝唱  hát xướng</td>\n",
              "      <td></td>\n",
              "      <td>[U+5531]</td>\n",
              "      <td>7</td>\n",
              "    </tr>\n",
              "    <tr>\n",
              "      <th>8897</th>\n",
              "      <td>唱</td>\n",
              "      <td>xang</td>\n",
              "      <td>吋唱  xốn xang [𠸨]  𫕸唱  xênh xang [𠸨]</td>\n",
              "      <td></td>\n",
              "      <td>[U+5531]</td>\n",
              "      <td>7</td>\n",
              "    </tr>\n",
              "    <tr>\n",
              "      <th>8898</th>\n",
              "      <td>䉅</td>\n",
              "      <td>xụp</td>\n",
              "      <td>㡴䉅  lụp xụp  嚏䉅  xì xụp</td>\n",
              "      <td></td>\n",
              "      <td>[U+4245]</td>\n",
              "      <td>7</td>\n",
              "    </tr>\n",
              "    <tr>\n",
              "      <th>8899</th>\n",
              "      <td>㻠</td>\n",
              "      <td>xụt</td>\n",
              "      <td>嚏㻠  xì xụt</td>\n",
              "      <td>[翻]</td>\n",
              "      <td>[U+3EE0]</td>\n",
              "      <td>7</td>\n",
              "    </tr>\n",
              "  </tbody>\n",
              "</table>\n",
              "<p>8900 rows × 6 columns</p>\n",
              "</div>\n",
              "    <div class=\"colab-df-buttons\">\n",
              "\n",
              "  <div class=\"colab-df-container\">\n",
              "    <button class=\"colab-df-convert\" onclick=\"convertToInteractive('df-104a4195-d2a1-4fdd-b846-bb726d0c6b8a')\"\n",
              "            title=\"Convert this dataframe to an interactive table.\"\n",
              "            style=\"display:none;\">\n",
              "\n",
              "  <svg xmlns=\"http://www.w3.org/2000/svg\" height=\"24px\" viewBox=\"0 -960 960 960\">\n",
              "    <path d=\"M120-120v-720h720v720H120Zm60-500h600v-160H180v160Zm220 220h160v-160H400v160Zm0 220h160v-160H400v160ZM180-400h160v-160H180v160Zm440 0h160v-160H620v160ZM180-180h160v-160H180v160Zm440 0h160v-160H620v160Z\"/>\n",
              "  </svg>\n",
              "    </button>\n",
              "\n",
              "  <style>\n",
              "    .colab-df-container {\n",
              "      display:flex;\n",
              "      gap: 12px;\n",
              "    }\n",
              "\n",
              "    .colab-df-convert {\n",
              "      background-color: #E8F0FE;\n",
              "      border: none;\n",
              "      border-radius: 50%;\n",
              "      cursor: pointer;\n",
              "      display: none;\n",
              "      fill: #1967D2;\n",
              "      height: 32px;\n",
              "      padding: 0 0 0 0;\n",
              "      width: 32px;\n",
              "    }\n",
              "\n",
              "    .colab-df-convert:hover {\n",
              "      background-color: #E2EBFA;\n",
              "      box-shadow: 0px 1px 2px rgba(60, 64, 67, 0.3), 0px 1px 3px 1px rgba(60, 64, 67, 0.15);\n",
              "      fill: #174EA6;\n",
              "    }\n",
              "\n",
              "    .colab-df-buttons div {\n",
              "      margin-bottom: 4px;\n",
              "    }\n",
              "\n",
              "    [theme=dark] .colab-df-convert {\n",
              "      background-color: #3B4455;\n",
              "      fill: #D2E3FC;\n",
              "    }\n",
              "\n",
              "    [theme=dark] .colab-df-convert:hover {\n",
              "      background-color: #434B5C;\n",
              "      box-shadow: 0px 1px 3px 1px rgba(0, 0, 0, 0.15);\n",
              "      filter: drop-shadow(0px 1px 2px rgba(0, 0, 0, 0.3));\n",
              "      fill: #FFFFFF;\n",
              "    }\n",
              "  </style>\n",
              "\n",
              "    <script>\n",
              "      const buttonEl =\n",
              "        document.querySelector('#df-104a4195-d2a1-4fdd-b846-bb726d0c6b8a button.colab-df-convert');\n",
              "      buttonEl.style.display =\n",
              "        google.colab.kernel.accessAllowed ? 'block' : 'none';\n",
              "\n",
              "      async function convertToInteractive(key) {\n",
              "        const element = document.querySelector('#df-104a4195-d2a1-4fdd-b846-bb726d0c6b8a');\n",
              "        const dataTable =\n",
              "          await google.colab.kernel.invokeFunction('convertToInteractive',\n",
              "                                                    [key], {});\n",
              "        if (!dataTable) return;\n",
              "\n",
              "        const docLinkHtml = 'Like what you see? Visit the ' +\n",
              "          '<a target=\"_blank\" href=https://colab.research.google.com/notebooks/data_table.ipynb>data table notebook</a>'\n",
              "          + ' to learn more about interactive tables.';\n",
              "        element.innerHTML = '';\n",
              "        dataTable['output_type'] = 'display_data';\n",
              "        await google.colab.output.renderOutput(dataTable, element);\n",
              "        const docLink = document.createElement('div');\n",
              "        docLink.innerHTML = docLinkHtml;\n",
              "        element.appendChild(docLink);\n",
              "      }\n",
              "    </script>\n",
              "  </div>\n",
              "\n",
              "\n",
              "    <div id=\"df-d42aa6fd-3689-4612-94cc-4219798b57cc\">\n",
              "      <button class=\"colab-df-quickchart\" onclick=\"quickchart('df-d42aa6fd-3689-4612-94cc-4219798b57cc')\"\n",
              "                title=\"Suggest charts\"\n",
              "                style=\"display:none;\">\n",
              "\n",
              "<svg xmlns=\"http://www.w3.org/2000/svg\" height=\"24px\"viewBox=\"0 0 24 24\"\n",
              "     width=\"24px\">\n",
              "    <g>\n",
              "        <path d=\"M19 3H5c-1.1 0-2 .9-2 2v14c0 1.1.9 2 2 2h14c1.1 0 2-.9 2-2V5c0-1.1-.9-2-2-2zM9 17H7v-7h2v7zm4 0h-2V7h2v10zm4 0h-2v-4h2v4z\"/>\n",
              "    </g>\n",
              "</svg>\n",
              "      </button>\n",
              "\n",
              "<style>\n",
              "  .colab-df-quickchart {\n",
              "      --bg-color: #E8F0FE;\n",
              "      --fill-color: #1967D2;\n",
              "      --hover-bg-color: #E2EBFA;\n",
              "      --hover-fill-color: #174EA6;\n",
              "      --disabled-fill-color: #AAA;\n",
              "      --disabled-bg-color: #DDD;\n",
              "  }\n",
              "\n",
              "  [theme=dark] .colab-df-quickchart {\n",
              "      --bg-color: #3B4455;\n",
              "      --fill-color: #D2E3FC;\n",
              "      --hover-bg-color: #434B5C;\n",
              "      --hover-fill-color: #FFFFFF;\n",
              "      --disabled-bg-color: #3B4455;\n",
              "      --disabled-fill-color: #666;\n",
              "  }\n",
              "\n",
              "  .colab-df-quickchart {\n",
              "    background-color: var(--bg-color);\n",
              "    border: none;\n",
              "    border-radius: 50%;\n",
              "    cursor: pointer;\n",
              "    display: none;\n",
              "    fill: var(--fill-color);\n",
              "    height: 32px;\n",
              "    padding: 0;\n",
              "    width: 32px;\n",
              "  }\n",
              "\n",
              "  .colab-df-quickchart:hover {\n",
              "    background-color: var(--hover-bg-color);\n",
              "    box-shadow: 0 1px 2px rgba(60, 64, 67, 0.3), 0 1px 3px 1px rgba(60, 64, 67, 0.15);\n",
              "    fill: var(--button-hover-fill-color);\n",
              "  }\n",
              "\n",
              "  .colab-df-quickchart-complete:disabled,\n",
              "  .colab-df-quickchart-complete:disabled:hover {\n",
              "    background-color: var(--disabled-bg-color);\n",
              "    fill: var(--disabled-fill-color);\n",
              "    box-shadow: none;\n",
              "  }\n",
              "\n",
              "  .colab-df-spinner {\n",
              "    border: 2px solid var(--fill-color);\n",
              "    border-color: transparent;\n",
              "    border-bottom-color: var(--fill-color);\n",
              "    animation:\n",
              "      spin 1s steps(1) infinite;\n",
              "  }\n",
              "\n",
              "  @keyframes spin {\n",
              "    0% {\n",
              "      border-color: transparent;\n",
              "      border-bottom-color: var(--fill-color);\n",
              "      border-left-color: var(--fill-color);\n",
              "    }\n",
              "    20% {\n",
              "      border-color: transparent;\n",
              "      border-left-color: var(--fill-color);\n",
              "      border-top-color: var(--fill-color);\n",
              "    }\n",
              "    30% {\n",
              "      border-color: transparent;\n",
              "      border-left-color: var(--fill-color);\n",
              "      border-top-color: var(--fill-color);\n",
              "      border-right-color: var(--fill-color);\n",
              "    }\n",
              "    40% {\n",
              "      border-color: transparent;\n",
              "      border-right-color: var(--fill-color);\n",
              "      border-top-color: var(--fill-color);\n",
              "    }\n",
              "    60% {\n",
              "      border-color: transparent;\n",
              "      border-right-color: var(--fill-color);\n",
              "    }\n",
              "    80% {\n",
              "      border-color: transparent;\n",
              "      border-right-color: var(--fill-color);\n",
              "      border-bottom-color: var(--fill-color);\n",
              "    }\n",
              "    90% {\n",
              "      border-color: transparent;\n",
              "      border-bottom-color: var(--fill-color);\n",
              "    }\n",
              "  }\n",
              "</style>\n",
              "\n",
              "      <script>\n",
              "        async function quickchart(key) {\n",
              "          const quickchartButtonEl =\n",
              "            document.querySelector('#' + key + ' button');\n",
              "          quickchartButtonEl.disabled = true;  // To prevent multiple clicks.\n",
              "          quickchartButtonEl.classList.add('colab-df-spinner');\n",
              "          try {\n",
              "            const charts = await google.colab.kernel.invokeFunction(\n",
              "                'suggestCharts', [key], {});\n",
              "          } catch (error) {\n",
              "            console.error('Error during call to suggestCharts:', error);\n",
              "          }\n",
              "          quickchartButtonEl.classList.remove('colab-df-spinner');\n",
              "          quickchartButtonEl.classList.add('colab-df-quickchart-complete');\n",
              "        }\n",
              "        (() => {\n",
              "          let quickchartButtonEl =\n",
              "            document.querySelector('#df-d42aa6fd-3689-4612-94cc-4219798b57cc button');\n",
              "          quickchartButtonEl.style.display =\n",
              "            google.colab.kernel.accessAllowed ? 'block' : 'none';\n",
              "        })();\n",
              "      </script>\n",
              "    </div>\n",
              "\n",
              "  <div id=\"id_5b56e4b9-d315-4be7-8a82-2b00b2c7455f\">\n",
              "    <style>\n",
              "      .colab-df-generate {\n",
              "        background-color: #E8F0FE;\n",
              "        border: none;\n",
              "        border-radius: 50%;\n",
              "        cursor: pointer;\n",
              "        display: none;\n",
              "        fill: #1967D2;\n",
              "        height: 32px;\n",
              "        padding: 0 0 0 0;\n",
              "        width: 32px;\n",
              "      }\n",
              "\n",
              "      .colab-df-generate:hover {\n",
              "        background-color: #E2EBFA;\n",
              "        box-shadow: 0px 1px 2px rgba(60, 64, 67, 0.3), 0px 1px 3px 1px rgba(60, 64, 67, 0.15);\n",
              "        fill: #174EA6;\n",
              "      }\n",
              "\n",
              "      [theme=dark] .colab-df-generate {\n",
              "        background-color: #3B4455;\n",
              "        fill: #D2E3FC;\n",
              "      }\n",
              "\n",
              "      [theme=dark] .colab-df-generate:hover {\n",
              "        background-color: #434B5C;\n",
              "        box-shadow: 0px 1px 3px 1px rgba(0, 0, 0, 0.15);\n",
              "        filter: drop-shadow(0px 1px 2px rgba(0, 0, 0, 0.3));\n",
              "        fill: #FFFFFF;\n",
              "      }\n",
              "    </style>\n",
              "    <button class=\"colab-df-generate\" onclick=\"generateWithVariable('standard_table_lv1')\"\n",
              "            title=\"Generate code using this dataframe.\"\n",
              "            style=\"display:none;\">\n",
              "\n",
              "  <svg xmlns=\"http://www.w3.org/2000/svg\" height=\"24px\"viewBox=\"0 0 24 24\"\n",
              "       width=\"24px\">\n",
              "    <path d=\"M7,19H8.4L18.45,9,17,7.55,7,17.6ZM5,21V16.75L18.45,3.32a2,2,0,0,1,2.83,0l1.4,1.43a1.91,1.91,0,0,1,.58,1.4,1.91,1.91,0,0,1-.58,1.4L9.25,21ZM18.45,9,17,7.55Zm-12,3A5.31,5.31,0,0,0,4.9,8.1,5.31,5.31,0,0,0,1,6.5,5.31,5.31,0,0,0,4.9,4.9,5.31,5.31,0,0,0,6.5,1,5.31,5.31,0,0,0,8.1,4.9,5.31,5.31,0,0,0,12,6.5,5.46,5.46,0,0,0,6.5,12Z\"/>\n",
              "  </svg>\n",
              "    </button>\n",
              "    <script>\n",
              "      (() => {\n",
              "      const buttonEl =\n",
              "        document.querySelector('#id_5b56e4b9-d315-4be7-8a82-2b00b2c7455f button.colab-df-generate');\n",
              "      buttonEl.style.display =\n",
              "        google.colab.kernel.accessAllowed ? 'block' : 'none';\n",
              "\n",
              "      buttonEl.onclick = () => {\n",
              "        google.colab.notebook.generateWithVariable('standard_table_lv1');\n",
              "      }\n",
              "      })();\n",
              "    </script>\n",
              "  </div>\n",
              "\n",
              "    </div>\n",
              "  </div>\n"
            ],
            "application/vnd.google.colaboratory.intrinsic+json": {
              "type": "dataframe",
              "variable_name": "standard_table_lv1",
              "summary": "{\n  \"name\": \"standard_table_lv1\",\n  \"rows\": 8900,\n  \"fields\": [\n    {\n      \"column\": \"Character\",\n      \"properties\": {\n        \"dtype\": \"string\",\n        \"num_unique_values\": 7149,\n        \"samples\": [\n          \"\\u5878\",\n          \"\\u64e3\",\n          \"\\u536f\"\n        ],\n        \"semantic_type\": \"\",\n        \"description\": \"\"\n      }\n    },\n    {\n      \"column\": \"Reading\",\n      \"properties\": {\n        \"dtype\": \"string\",\n        \"num_unique_values\": 6364,\n        \"samples\": [\n          \"v\\u00f3t\",\n          \"s\\u1ee9c\",\n          \"C\\u1ed4\"\n        ],\n        \"semantic_type\": \"\",\n        \"description\": \"\"\n      }\n    },\n    {\n      \"column\": \"Examples\",\n      \"properties\": {\n        \"dtype\": \"string\",\n        \"num_unique_values\": 8327,\n        \"samples\": [\n          \"\\u6555\\u4ee4  s\\u1eafc l\\u1ec7nh  \\u6555\\u5c01  s\\u1eafc phong \",\n          \"\\u5730\\u8f44  \\u0111\\u1ecba h\\u1ea1t  \\u8f44\\u4e0b  h\\u1ea1t h\\u1ea1 \",\n          \"\\ud86f\\udf29\\u6341  n\\u00edu k\\u00e9o\"\n        ],\n        \"semantic_type\": \"\",\n        \"description\": \"\"\n      }\n    },\n    {\n      \"column\": \"Note\",\n      \"properties\": {\n        \"dtype\": \"category\",\n        \"num_unique_values\": 992,\n        \"samples\": [\n          \"[\\u7570]  \\u55a0 \",\n          \"[\\u7570]  \\ud840\\uddee \",\n          \"[\\u7ffb]\\n[\\u7570]  \\ud857\\udfe5 \"\n        ],\n        \"semantic_type\": \"\",\n        \"description\": \"\"\n      }\n    },\n    {\n      \"column\": \"unicode\",\n      \"properties\": {\n        \"dtype\": \"object\",\n        \"semantic_type\": \"\",\n        \"description\": \"\"\n      }\n    },\n    {\n      \"column\": \"grade\",\n      \"properties\": {\n        \"dtype\": \"number\",\n        \"std\": 1,\n        \"min\": 1,\n        \"max\": 7,\n        \"num_unique_values\": 7,\n        \"samples\": [\n          2,\n          6,\n          1\n        ],\n        \"semantic_type\": \"\",\n        \"description\": \"\"\n      }\n    }\n  ]\n}"
            }
          },
          "metadata": {},
          "execution_count": 57
        }
      ]
    },
    {
      "cell_type": "code",
      "execution_count": 60,
      "metadata": {
        "colab": {
          "base_uri": "https://localhost:8080/"
        },
        "id": "-WgN9pkNjdy3",
        "outputId": "a43cf5ed-445a-4e41-9a66-199006b35106"
      },
      "outputs": [
        {
          "output_type": "execute_result",
          "data": {
            "text/plain": [
              "7149"
            ]
          },
          "metadata": {},
          "execution_count": 60
        }
      ],
      "source": [
        "# Precisely 7149 character, nice\n",
        "len(standard_table_lv1[\"Character\"].unique())"
      ]
    },
    {
      "cell_type": "markdown",
      "metadata": {
        "id": "mTsgHgi0xCOZ"
      },
      "source": [
        "Now, we have a complete table need for creating anki decks.\n",
        "\n",
        "## 3. Create anki decks"
      ]
    },
    {
      "cell_type": "code",
      "execution_count": 65,
      "metadata": {
        "id": "oTme0b4Hlwae"
      },
      "outputs": [],
      "source": [
        "# Create an Anki model (card layout)\n",
        "han_nom_to_quoc_ngu_model = genanki.Model(\n",
        "    1607392319,\n",
        "    'Hán Nôm',\n",
        "    fields=[\n",
        "        {'name': 'Character'},\n",
        "        {'name': 'Readings'},\n",
        "        {'name': 'Audio'},\n",
        "        {'name': 'Picture'},\n",
        "        {'name': 'Examples'},\n",
        "        {'name': 'Notes'},\n",
        "        {'name': 'Grade'},\n",
        "    ],\n",
        "    templates=[\n",
        "        {\n",
        "            'name': 'Card 1',\n",
        "            'qfmt': \"\"\"<div style=\"font-size: 3em; font-family: minh\">\n",
        "{{Character}}\n",
        "</div>\"\"\",\n",
        "            'afmt': \"\"\"{{FrontSide}}\n",
        "\n",
        "<hr id=answer>\n",
        "\n",
        "<div style=\"font-size: 2em; font-family: minh\"\">{{Readings}}</div>\n",
        "<div>{{Audio}}</div>\n",
        "<div>{{Picture}}</div>\n",
        "<div class=\"examples\">{{Examples}}</div>\n",
        "\n",
        "\n",
        "{{#Notes}}\n",
        "<br>\n",
        "<div style=\"font-size: 0.5em; width: fit-content; max-width:50vw; margin: auto\">\n",
        "\t<details>\n",
        "  \t<summary>Notes</summary>\n",
        "\t\t{{Notes}}\n",
        "\t</details>\n",
        "\n",
        "</div>\n",
        "\n",
        "{{/Notes}}\n",
        "\"\"\",\n",
        "        },\n",
        "    ],\n",
        "    css = \"\"\".card {\n",
        "    font-family: gothic;\n",
        "    font-size: 2em;\n",
        "    text-align: center;\n",
        "    color: black;\n",
        "    background-color: #fdf6e3;\n",
        "}\n",
        "\n",
        "@font-face {\n",
        "  font-family: gothic;\n",
        "  src: url(\"_gothic.ttf\");\n",
        "}\n",
        "\n",
        "@font-face {\n",
        "  font-family: minh;\n",
        "  src: url(\"_minh.ttf\");\n",
        "}\"\"\",\n",
        ")"
      ]
    },
    {
      "cell_type": "code",
      "source": [
        "import random\n",
        "print(random.randrange(1 << 30, 1 << 31))"
      ],
      "metadata": {
        "id": "3XFi78egr62r",
        "outputId": "2d05275d-117a-4656-e7c1-135403af3e41",
        "colab": {
          "base_uri": "https://localhost:8080/"
        }
      },
      "execution_count": 63,
      "outputs": [
        {
          "output_type": "stream",
          "name": "stdout",
          "text": [
            "2119493255\n"
          ]
        }
      ]
    },
    {
      "cell_type": "code",
      "execution_count": 66,
      "metadata": {
        "id": "0elp-12UxCOZ",
        "colab": {
          "base_uri": "https://localhost:8080/"
        },
        "outputId": "7f602b6b-5100-49bb-a98b-08b9a5e04fad"
      },
      "outputs": [
        {
          "output_type": "stream",
          "name": "stdout",
          "text": [
            "Grade 1 : 244\n",
            "Grade 2 : 342\n",
            "Grade 3 : 464\n",
            "Grade 4 : 478\n",
            "Grade 5 : 490\n",
            "Grade 6 : 1957\n",
            "3975\n"
          ]
        }
      ],
      "source": [
        "one_giant_deck = genanki.Deck(2119493255, \"Hán Nôm\")\n",
        "\n",
        "package = genanki.Package(one_giant_deck)\n",
        "package.media_files = ['_gothic.ttf', '_minh.ttf']\n",
        "\n",
        "def create_deck(new_df, deck_name, model, grade):\n",
        "    match grade:\n",
        "        case 7:\n",
        "            subdeck_name = f'Cấp 2'\n",
        "        case 8:\n",
        "            subdeck_name = f'Ngoài bảng'\n",
        "        case _:\n",
        "            subdeck_name = f'Lớp {grade}'\n",
        "\n",
        "    # subdeck = genanki.Deck(2059400110+grade+ord(deck_name[0]), f'{deck_name}::{subdeck_name}')  # Subdeck ID\n",
        "\n",
        "    # package = genanki.Package(subdeck)\n",
        "    # package.media_files = ['_gothic.ttf', '_minh.ttf']\n",
        "\n",
        "    for _, row in new_df.iterrows():\n",
        "        note = genanki.Note(\n",
        "            model=model,\n",
        "            fields=[str(row['Character']) if pd.notna(row['Character']) else '',\n",
        "                    str(row['Readings']) if pd.notna(row['Readings']) else '',\n",
        "                    '',\n",
        "                    '',\n",
        "                    str(row['Examples']) if pd.notna(row['Examples']) else '',\n",
        "                    str(row['Note']) if pd.notna(row['Note']) else '',\n",
        "                    str(row['grade']) if pd.notna(row['grade']) else '',]\n",
        "        )\n",
        "        # subdeck.add_note(note)\n",
        "        one_giant_deck.add_note(note)\n",
        "\n",
        "    # subdeck.write_to_file(f'results/{deck_name} - {subdeck_name}.apkg')\n",
        "\n",
        "def create_HanNom_to_Quocngu_deck(df, deck_name, grade, model = han_nom_to_quoc_ngu_model):\n",
        "    df_by_grade = df[df['grade'] == grade]\n",
        "\n",
        "    new_df = pd.DataFrame(columns=['Character', 'Readings', 'Examples', 'Note', 'grade'])\n",
        "\n",
        "    for _, row in df_by_grade.iterrows():\n",
        "        character = str(row['Character']) if pd.notna(row['Character']) else ''\n",
        "        reading = str(row['Reading']) if pd.notna(row['Reading']) else ''\n",
        "        examples = str(row['Examples']) if pd.notna(row['Examples']) else ''\n",
        "        note = str(row['Note']) if pd.notna(row['Note']) else ''\n",
        "        grade_val = str(row['grade']) if pd.notna(row['grade']) else ''\n",
        "\n",
        "        if character in new_df['Character'].values:\n",
        "            new_df.loc[new_df['Character'] == character, 'Readings'] += ', ' + reading\n",
        "            new_df.loc[new_df['Character'] == character, 'Examples'] += '<br>' + examples\n",
        "        else:\n",
        "            new_df.loc[len(new_df)] = [character, reading, examples, note, grade_val]\n",
        "\n",
        "    temp = pd.DataFrame(columns=['Character', 'Readings', 'Examples', 'Note', 'grade'])\n",
        "\n",
        "    # Handle cases for grades 1-6, 7 (level2), and 8 (outside the table)\n",
        "    if grade in range(1, 7):\n",
        "        for character in characters_by_grade[grade]:\n",
        "             row = new_df[new_df['Character'].str.contains(character)]\n",
        "             if not row.empty:\n",
        "                temp.loc[len(temp)] = row.iloc[0].values\n",
        "    # elif grade == 7:\n",
        "    #      for character in characters_lv2:\n",
        "    #          row = new_df[new_df['Character'].str.contains(character)]\n",
        "    #          if not row.empty:\n",
        "    #             temp.loc[len(temp)] = row.iloc[0].values\n",
        "    # elif grade == 8:\n",
        "    #     temp = new_df # For grade 8, keep all characters in new_df\n",
        "\n",
        "    new_df = temp\n",
        "\n",
        "    create_deck(new_df, deck_name, model, grade)\n",
        "    return new_df\n",
        "\n",
        "sum = 0\n",
        "for i in range(1, 7):\n",
        "    new_df = create_HanNom_to_Quocngu_deck(standard_table_lv1, 'Hán Nôm', i)\n",
        "    print(f\"Grade {i} : {len(new_df.index)}\")\n",
        "    sum += len(new_df.index)\n",
        "\n",
        "package.write_to_file('results/hannom.apkg')\n",
        "\n",
        "print(sum)"
      ]
    },
    {
      "cell_type": "code",
      "execution_count": 67,
      "metadata": {
        "colab": {
          "base_uri": "https://localhost:8080/",
          "height": 199
        },
        "id": "Q4DmQPYe31k_",
        "outputId": "6bede64f-543e-43a4-b6ba-867bbb8f30f1"
      },
      "outputs": [
        {
          "output_type": "stream",
          "name": "stdout",
          "text": [
            "  adding: results/ (stored 0%)\n",
            "  adding: results/Hán Nôm - Lớp 2.apkg (deflated 74%)\n",
            "  adding: results/Hán Nôm - Cấp 2.apkg (deflated 65%)\n",
            "  adding: results/Hán Nôm - Lớp 3.apkg (deflated 75%)\n",
            "  adding: results/Hán Nôm - Lớp 4.apkg (deflated 76%)\n",
            "  adding: results/Hán Nôm - Lớp 6.apkg (deflated 67%)\n",
            "  adding: results/Hán Nôm - Ngoài bảng.apkg (deflated 86%)\n",
            "  adding: results/Hán Nôm - Lớp 5.apkg (deflated 76%)\n",
            "  adding: results/hannom.apkg (deflated 41%)\n",
            "  adding: results/Hán Nôm - Lớp 1.apkg (deflated 79%)\n"
          ]
        },
        {
          "output_type": "display_data",
          "data": {
            "text/plain": [
              "<IPython.core.display.Javascript object>"
            ],
            "application/javascript": [
              "\n",
              "    async function download(id, filename, size) {\n",
              "      if (!google.colab.kernel.accessAllowed) {\n",
              "        return;\n",
              "      }\n",
              "      const div = document.createElement('div');\n",
              "      const label = document.createElement('label');\n",
              "      label.textContent = `Downloading \"${filename}\": `;\n",
              "      div.appendChild(label);\n",
              "      const progress = document.createElement('progress');\n",
              "      progress.max = size;\n",
              "      div.appendChild(progress);\n",
              "      document.body.appendChild(div);\n",
              "\n",
              "      const buffers = [];\n",
              "      let downloaded = 0;\n",
              "\n",
              "      const channel = await google.colab.kernel.comms.open(id);\n",
              "      // Send a message to notify the kernel that we're ready.\n",
              "      channel.send({})\n",
              "\n",
              "      for await (const message of channel.messages) {\n",
              "        // Send a message to notify the kernel that we're ready.\n",
              "        channel.send({})\n",
              "        if (message.buffers) {\n",
              "          for (const buffer of message.buffers) {\n",
              "            buffers.push(buffer);\n",
              "            downloaded += buffer.byteLength;\n",
              "            progress.value = downloaded;\n",
              "          }\n",
              "        }\n",
              "      }\n",
              "      const blob = new Blob(buffers, {type: 'application/binary'});\n",
              "      const a = document.createElement('a');\n",
              "      a.href = window.URL.createObjectURL(blob);\n",
              "      a.download = filename;\n",
              "      div.appendChild(a);\n",
              "      a.click();\n",
              "      div.remove();\n",
              "    }\n",
              "  "
            ]
          },
          "metadata": {}
        },
        {
          "output_type": "display_data",
          "data": {
            "text/plain": [
              "<IPython.core.display.Javascript object>"
            ],
            "application/javascript": [
              "download(\"download_52e20514-9c8c-43de-b879-fdd426784530\", \"results.zip\", 22853188)"
            ]
          },
          "metadata": {}
        }
      ],
      "source": [
        "!zip -r /content/results.zip results\n",
        "\n",
        "files.download(\"/content/results.zip\")\n",
        "# files.download(\"/content/after-processing-list.xlsx\")"
      ]
    }
  ],
  "metadata": {
    "colab": {
      "provenance": [],
      "include_colab_link": true
    },
    "kernelspec": {
      "display_name": "myenv",
      "language": "python",
      "name": "python3"
    },
    "language_info": {
      "codemirror_mode": {
        "name": "ipython",
        "version": 3
      },
      "file_extension": ".py",
      "mimetype": "text/x-python",
      "name": "python",
      "nbconvert_exporter": "python",
      "pygments_lexer": "ipython3",
      "version": "3.9.7"
    }
  },
  "nbformat": 4,
  "nbformat_minor": 0
}